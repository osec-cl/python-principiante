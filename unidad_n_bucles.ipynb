{
 "cells": [
  {
   "cell_type": "markdown",
   "metadata": {},
   "source": [
    "# Bucles"
   ]
  },
  {
   "cell_type": "markdown",
   "metadata": {},
   "source": [
    "## Iterar un diccionario"
   ]
  },
  {
   "cell_type": "code",
   "execution_count": 1,
   "metadata": {},
   "outputs": [
    {
     "name": "stdout",
     "output_type": "stream",
     "text": [
      "la clave es: ('nombre', 'Luis')\n",
      "la clave es: ('apellido', 'Vasquez')\n",
      "la clave es: ('subs', 1000000)\n",
      "la clave es: nombre y el valor es: Luis\n",
      "la clave es: apellido y el valor es: Vasquez\n",
      "la clave es: subs y el valor es: 1000000\n"
     ]
    }
   ],
   "source": [
    "diccionario = {\n",
    "    \"nombre\": \"Luis\",\n",
    "    \"apellido\": \"Vasquez\",\n",
    "    \"subs\": 1000000\n",
    "    }\n",
    "\n",
    "#recorriendo diccionario con items() para obtener la clave \n",
    "for key in diccionario.items():\n",
    "    key\n",
    "    print(f\"la clave es: {key}\")\n",
    "\n",
    "\n",
    "#recorriendo diccionario con items() para obtener la clave y el valor\n",
    "for datos in diccionario.items():\n",
    "    key = datos[0]\n",
    "    value = datos[1]\n",
    "    print(f\"la clave es: {key} y el valor es: {value}\")"
   ]
  },
  {
   "cell_type": "markdown",
   "metadata": {},
   "source": [
    "##  Iterar elementos"
   ]
  },
  {
   "cell_type": "code",
   "execution_count": 2,
   "metadata": {},
   "outputs": [
    {
     "name": "stdout",
     "output_type": "stream",
     "text": [
      "Ahora la variable animal es igual a: gato\n",
      "Ahora la variable animal es igual a: perro\n",
      "Ahora la variable animal es igual a: loro\n",
      "Ahora la variable animal es igual a: cocodrilo\n",
      "520\n",
      "160\n",
      "320\n",
      "580\n",
      "Recorriendo lista 1: gato\n",
      "Recorriendo lista 2: 52\n",
      "Recorriendo lista 1: perro\n",
      "Recorriendo lista 2: 16\n",
      "Recorriendo lista 1: loro\n",
      "Recorriendo lista 2: 32\n",
      "Recorriendo lista 1: cocodrilo\n",
      "Recorriendo lista 2: 58\n",
      "52\n",
      "16\n",
      "32\n",
      "58\n",
      "el indice es: 0 y el valor es: 52\n",
      "el indice es: 1 y el valor es: 16\n",
      "el indice es: 2 y el valor es: 32\n",
      "el indice es: 3 y el valor es: 58\n",
      "ejecutando el ultimo bucle, valor actual: 52\n",
      "ejecutando el ultimo bucle, valor actual: 16\n",
      "ejecutando el ultimo bucle, valor actual: 32\n",
      "ejecutando el ultimo bucle, valor actual: 58\n",
      "el bucle ha terminado\n"
     ]
    }
   ],
   "source": [
    "animales = [\"gato\", \"perro\", \"loro\", \"cocodrilo\"]\n",
    "numeros = [52, 16, 32, 58]\n",
    "\n",
    "# Recorriendo la lista animales\n",
    "for animal in animales:\n",
    "    print(f'Ahora la variable animal es igual a: {animal}')\n",
    "\n",
    "# Recorriendo la lista numeros y multiplicando cada valor por 10\n",
    "for numero in numeros:\n",
    "    resultado = numero * 10\n",
    "    print(resultado)\n",
    "\n",
    "#iterando dos listas del mismo tamaño al mismo tiempo\n",
    "for animal, numero in zip(animales, numeros):\n",
    "    print(f\"Recorriendo lista 1: {animal}\")\n",
    "    print(f\"Recorriendo lista 2: {numero}\")\n",
    "    \n",
    "\n",
    "#forma no optima de recorrer una lista con su indice (no funciona en conjuntos)\n",
    "for num in range(len(numeros)):\n",
    "    print(numeros[num])\n",
    "    \n",
    "\n",
    "#forma correcta de recorrer una lista con su indice\n",
    "for num in enumerate(numeros):\n",
    "    indice = num[0]\n",
    "    valor = num[1]\n",
    "    print(f'el indice es: {indice} y el valor es: {valor}')\n",
    "    \n",
    "\n",
    "#usando el for/else\n",
    "for numero in numeros:\n",
    "    print(f'ejecutando el ultimo bucle, valor actual: {numero}')\n",
    "else: \n",
    "    print('el bucle ha terminado')\n",
    "    \n",
    "#todo lo anterior tambien funciona para tuplas y conjuntos"
   ]
  },
  {
   "cell_type": "markdown",
   "metadata": {},
   "source": [
    "## Bucles while"
   ]
  },
  {
   "cell_type": "code",
   "execution_count": 3,
   "metadata": {},
   "outputs": [
    {
     "name": "stdout",
     "output_type": "stream",
     "text": [
      "0\n",
      "1\n",
      "2\n",
      "3\n",
      "4\n",
      "5\n",
      "6\n",
      "7\n",
      "8\n",
      "9\n",
      "el while llego a su fin\n"
     ]
    }
   ],
   "source": [
    "#creando un contador que va a ir sumandose\n",
    "contador = 0\n",
    "\n",
    "#mientras que la condicion se cumpla, el bucle se va a seguir ejecutando\n",
    "while contador < 10:\n",
    "    print(contador)\n",
    "    contador+= 1\n",
    "\n",
    "print(\"el while llego a su fin\")"
   ]
  },
  {
   "cell_type": "markdown",
   "metadata": {},
   "source": [
    "## Más iteraciones"
   ]
  },
  {
   "cell_type": "code",
   "execution_count": 4,
   "metadata": {},
   "outputs": [
    {
     "name": "stdout",
     "output_type": "stream",
     "text": [
      "me voy a comer una platano\n",
      "me voy a comer una pera\n",
      "me voy a comer una naranja\n",
      "me voy a comer una durazno\n",
      "me voy a comer una platano\n",
      "me voy a comer una manzana\n",
      "me voy a comer una pera\n",
      "H\n",
      "o\n",
      "l\n",
      "a\n",
      " \n",
      "l\n",
      "u\n",
      "i\n",
      "s\n",
      "i\n",
      "t\n",
      "o\n",
      "[4, 10, 16, 20]\n"
     ]
    }
   ],
   "source": [
    "#creando una lista\n",
    "frutas = [\"platano\",\"manzana\",\"pera\",\"naranja\",\"durazno\"]\n",
    "cadena = \"Hola luisito\"\n",
    "numeros = [2,5,8,10]\n",
    "\n",
    "#evitando que se coma una manzana con la sentencia continue \n",
    "for fruta in frutas:\n",
    "    if fruta == 'manzana':\n",
    "        continue\n",
    "    print(f'me voy a comer una {fruta}')\n",
    "    \n",
    "#evitar que el bucle siga ejecutandose (el else no se ejecuta tampoco)\n",
    "for fruta in frutas:\n",
    "    print(f'me voy a comer una {fruta}')\n",
    "    if fruta == 'pera':\n",
    "        break\n",
    "else: \n",
    "    print(\"terminado\")\n",
    "\n",
    "#recorrer una cadena de texto\n",
    "\n",
    "for letra in cadena:\n",
    "    print(letra)\n",
    "    \n",
    "\n",
    "#for en una sola linea de codigo (duplicamos los numeros)\n",
    "numeros_duplicados = [x*2 for x in numeros]\n",
    "print(numeros_duplicados)"
   ]
  }
 ],
 "metadata": {
  "kernelspec": {
   "display_name": ".env",
   "language": "python",
   "name": "python3"
  },
  "language_info": {
   "codemirror_mode": {
    "name": "ipython",
    "version": 3
   },
   "file_extension": ".py",
   "mimetype": "text/x-python",
   "name": "python",
   "nbconvert_exporter": "python",
   "pygments_lexer": "ipython3",
   "version": "3.12.5"
  }
 },
 "nbformat": 4,
 "nbformat_minor": 2
}
